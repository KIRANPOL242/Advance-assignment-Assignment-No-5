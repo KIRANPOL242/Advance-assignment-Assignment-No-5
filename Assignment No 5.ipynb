{
 "cells": [
  {
   "cell_type": "markdown",
   "metadata": {},
   "source": [
    "# Assignment No 5"
   ]
  },
  {
   "cell_type": "code",
   "execution_count": null,
   "metadata": {},
   "outputs": [],
   "source": []
  },
  {
   "cell_type": "markdown",
   "metadata": {},
   "source": [
    "Q1. What is the meaning of multiple inheritance?"
   ]
  },
  {
   "cell_type": "code",
   "execution_count": null,
   "metadata": {},
   "outputs": [],
   "source": []
  },
  {
   "cell_type": "markdown",
   "metadata": {},
   "source": [
    "Multiple Inheritance- In this type inheritance a child class can have more than one parent classes. In this scenario one child class can inherit properties of multiple parent classes."
   ]
  },
  {
   "cell_type": "code",
   "execution_count": 2,
   "metadata": {},
   "outputs": [],
   "source": [
    "class Parent_one:\n",
    "    pass\n",
    "class Parent_two:\n",
    "    pass\n",
    "class child(Parent_one,Parent_two):\n",
    "    pass"
   ]
  },
  {
   "cell_type": "markdown",
   "metadata": {},
   "source": [
    "Q2. What is the concept of delegation?"
   ]
  },
  {
   "cell_type": "code",
   "execution_count": null,
   "metadata": {},
   "outputs": [],
   "source": []
  },
  {
   "cell_type": "markdown",
   "metadata": {},
   "source": [
    "The delegation pattern is an object-oriented design pattern that allows object composition to achieve the same code reuse as inheritance. If you read that sentence four or five times you might get it but let me try to make it simpler."
   ]
  },
  {
   "cell_type": "code",
   "execution_count": 4,
   "metadata": {},
   "outputs": [
    {
     "name": "stdout",
     "output_type": "stream",
     "text": [
      "I have 4 legs\n"
     ]
    }
   ],
   "source": [
    "class Animal:\n",
    "    def __init__(self, name, num_of_legs):\n",
    "        self.name = name\n",
    "        self.num_of_legs = num_of_legs\n",
    "  \n",
    "    def get_number_of_legs(self):\n",
    "        print(f\"I have {self.num_of_legs} legs\")\n",
    "\n",
    "class Dog(Animal):\n",
    "    def __init__(self, name, num_of_legs):\n",
    "        super().__init__(name, num_of_legs)\n",
    "\n",
    "dog = Dog('Fido', 4)\n",
    "dog.get_number_of_legs()"
   ]
  },
  {
   "cell_type": "markdown",
   "metadata": {},
   "source": [
    "Q3. What is the concept of composition?"
   ]
  },
  {
   "cell_type": "code",
   "execution_count": null,
   "metadata": {},
   "outputs": [],
   "source": []
  },
  {
   "cell_type": "markdown",
   "metadata": {},
   "source": [
    "- In the concept of Composition, a class refers to one or more other classes by using instances of those classes as a instance variable. irrespective of inheritence in this approach all the parent class members are not inherited into child class, but only required methods from a class are used by using class instances.\n",
    "- The clasees that contains objects from the other classes in the program are called as composites whereas the classes which we use to create more complex type of relationship models is called components"
   ]
  },
  {
   "cell_type": "code",
   "execution_count": 7,
   "metadata": {},
   "outputs": [
    {
     "name": "stdout",
     "output_type": "stream",
     "text": [
      "An object for the Component class is created ...\n",
      "An object for the Composite class is also created ...\n",
      "The Composite class method mk() is also successfully executed ...\n",
      "The Component class method mk1() is executed successfully ...\n"
     ]
    }
   ],
   "source": [
    "# create a component class in program\n",
    "class ComponentClass:\n",
    "# create the composite class constructor in component\n",
    "    def __init__(self):\n",
    "        print('An object for the Component class is created ...')\n",
    "# using the composite class instance method\n",
    "    def mk1(self):\n",
    "        print('The Component class method mk1() is executed successfully ...')\n",
    "# create a composite class in program\n",
    "class CompositeClass:\n",
    "# create a class constructor for composite class\n",
    "    def __init__(self):\n",
    "# creating an instance for the component class\n",
    "        self.inst1 = ComponentClass()                   \n",
    "        print('An object for the Composite class is also created ...')\n",
    "# creating a class instance method for composite class\n",
    "    def mk(self):             \n",
    "        print('The Composite class method mk() is also successfully executed ...')\n",
    "# calling the mk1() method of component class in composite clas\n",
    "        self.inst1.mk1()\n",
    "# creating an instance for the composite class\n",
    "inst2 = CompositeClass()\n",
    "# calling out mk() method from the composite class\n",
    "inst2.mk() "
   ]
  },
  {
   "cell_type": "markdown",
   "metadata": {},
   "source": [
    "Q5. What is the purpose of pseudon private attributes?"
   ]
  },
  {
   "cell_type": "code",
   "execution_count": null,
   "metadata": {},
   "outputs": [],
   "source": []
  },
  {
   "cell_type": "markdown",
   "metadata": {},
   "source": [
    "- Python clearly has a private definition method that is to add a double underline __ in front of the variable or method. This is actually a pseudo-private of python. It's just a kind of stupulation that programmers agree with the common name, adding it means priavate variable, but if you wnat to call it externally, you can still call it."
   ]
  }
 ],
 "metadata": {
  "kernelspec": {
   "display_name": "Python 3",
   "language": "python",
   "name": "python3"
  },
  "language_info": {
   "codemirror_mode": {
    "name": "ipython",
    "version": 3
   },
   "file_extension": ".py",
   "mimetype": "text/x-python",
   "name": "python",
   "nbconvert_exporter": "python",
   "pygments_lexer": "ipython3",
   "version": "3.7.1"
  }
 },
 "nbformat": 4,
 "nbformat_minor": 2
}
